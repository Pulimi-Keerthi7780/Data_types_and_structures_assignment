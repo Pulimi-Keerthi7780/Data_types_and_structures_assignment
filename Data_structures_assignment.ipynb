{
  "nbformat": 4,
  "nbformat_minor": 0,
  "metadata": {
    "colab": {
      "provenance": []
    },
    "kernelspec": {
      "name": "python3",
      "display_name": "Python 3"
    },
    "language_info": {
      "name": "python"
    }
  },
  "cells": [
    {
      "cell_type": "markdown",
      "source": [
        "# **THEORY QUESTIONS**"
      ],
      "metadata": {
        "id": "XsJiEFbTdZBp"
      }
    },
    {
      "cell_type": "markdown",
      "source": [
        "1. What are data structures, and why are they important ?\n",
        "- data structures are a way of storing data .\n",
        "- data structures are important to let us store , monipulate and use the data.\n",
        "- some examples of data structures include lists , strings , tuples ..etc"
      ],
      "metadata": {
        "id": "IBruRFRSdtGg"
      }
    },
    {
      "cell_type": "markdown",
      "source": [
        "2. Explain the difference between mutable and immutable data types with examples.\n",
        "\n",
        "- Mutable data types are the data types which can be modified after they are declares . Example for a mutable data type is Lists. The modification can be done using various methods such as append() , remove() , pop() , del() ...ect\n",
        "\n",
        "\n",
        "```\n",
        "lists = [1,2,3,4,5]\n",
        "lists[1] = 7\n",
        "print(lists)\n",
        "# will print [1,7,3,4,5]\n",
        "```\n",
        "- Immutable data types are the data types which once declared can not be modified . They throw an error if we try to modify them . This type of data types are used when we want to store some data that shouldnt be changed. Few examples of immutable data types include string and tuples.\n",
        "\n",
        "\n",
        "```\n",
        "tups = (1,2,3,4,5)\n",
        "tups[1] = 25 #this will throw an error\n",
        "```\n",
        "\n",
        "\n"
      ],
      "metadata": {
        "id": "WBnB_K14dtBY"
      }
    },
    {
      "cell_type": "markdown",
      "source": [
        "3. What are the main differences between lists and tuples in Python?\n",
        "\n",
        "- The main differences between the lists and tuples in python are as follows :\n",
        "  - Lists are mutable (they can be modified after they are declared) whereas the tuples are immutable (they can not be modified once they are declared )\n",
        "  - Lists are declared using the square brackets [] and tuples are declared using the parenthesis ()"
      ],
      "metadata": {
        "id": "3mNRj0hVds8Q"
      }
    },
    {
      "cell_type": "markdown",
      "source": [
        "4.  Describe how dictionaries store data?\n",
        "- dictionaries store data in the form of key value pairs.\n",
        "- there is no concept of index in dictionaries and the values are accessed by using the key.\n",
        "\n",
        "\n",
        "```\n",
        "my_dict = {\"key1\" : \"value 1\" ,\"key2\" : \"value 2\" ,\"key3\" : \"value 3\" } #a dictionary\n",
        "\n",
        "my_dict[key2] #accessing the value 2 using the key2\n",
        "```\n",
        "\n"
      ],
      "metadata": {
        "id": "6AGprQfods4r"
      }
    },
    {
      "cell_type": "markdown",
      "source": [
        "5. Why might you use a set instead of a list in Python?\n",
        "- When I want one element to be present only one time then I will use set instead of a list .\n",
        "- To know what all elements are present or to know if an element is present or not sets are helpful ."
      ],
      "metadata": {
        "id": "II5IzGP3dsy0"
      }
    },
    {
      "cell_type": "markdown",
      "source": [
        "6. What is a string in Python, and how is it different from a list ?\n",
        "- a string is a sequence of charectors enclosed within coats (\"\" or '')\n",
        "- the difference between string and list is that list can store all types of data within it , infact it should be said that it stores heterogeneous type of data within it like int , float , lists,boolean ..etc\n",
        "- the other main difference between string and list is that strings are immutable whereas the lists are mutable\n",
        "- the difference in the way we declare strings and lists is that strings are written a whole thing enclosed within double or single coats , whereas the elements of lists are seperated by commas and enclosed within square brackets.\n",
        "\n",
        "\n",
        "```\n",
        "#declaring a string\n",
        "mystring = \"Hare Krishna @ 12345 %$#5 \"\n",
        "\n",
        "\n",
        "#declaring a list\n",
        "my_list = [ 1,2.5,3+4j,\"kee\",[1,2,3 ] , True]\n",
        "```\n",
        "\n"
      ],
      "metadata": {
        "id": "lwk9tK17dsva"
      }
    },
    {
      "cell_type": "markdown",
      "source": [
        "7. How do tuples ensure data integrity in Python ?\n",
        "\n",
        "- Since tuples once declared can not be modified and manipulated they ensure data integrity in Python."
      ],
      "metadata": {
        "id": "oGbAd0TRdsqn"
      }
    },
    {
      "cell_type": "markdown",
      "source": [
        "8. What is a hash table, and how does it relate to dictionaries in Python ?\n",
        "- since dictionaries stores the data in the form of key value pairs and when we want to access the values it can be accessed using the keys and not indexes the hash table is used to store the data in the form of containers where the name of the container will be the key and the value stored inside it will be the value ..so using the hash table only the values can be accessed by using the keys."
      ],
      "metadata": {
        "id": "lpCctsm9dsoQ"
      }
    },
    {
      "cell_type": "markdown",
      "source": [
        "9. Can lists contain different data types in Python?\n",
        "\n",
        "- Yes , lists can contain different data types as its capable of storing hetrogeneous data .\n",
        "- Example :   \n",
        "\n",
        "\n",
        "```\n",
        "my_list = [1 , 2.3 , \"Krishna \" , 3+5j , True]  #this is a valid list containing different data types\n",
        "```\n",
        "\n"
      ],
      "metadata": {
        "id": "8r6dAHKPdsiO"
      }
    },
    {
      "cell_type": "markdown",
      "source": [
        "10. Explain why strings are immutable in Python.\n",
        "- since strings are usually used to store important data such as usernames or passwords in most of the real life applications its important the the information stored in the string remains unchanged or it should be in a way that no external person should be able to modify or change the information and also any operations made by the code should also not manipulate the information stored in the string ..hence strings are immutable in python."
      ],
      "metadata": {
        "id": "uAqA1EGhdsdx"
      }
    },
    {
      "cell_type": "markdown",
      "source": [
        "11. What advantages do dictionaries offer over lists for certain tasks?\n",
        "- in certain situations where we have to store the data in key value pairs or simple terms if we have to have many features related to a specific element  then using dictionaries would be an advantage than to use a list to store such type of data .\n",
        "- for example to store the details related to a particular employee and also to store it in such a way that we understand which value corresponsds to what like salary age experiance then storing these details in an interpretable way using lists is not feasable but using dictoniries it can be easily done\n",
        "\n",
        "\n",
        "```\n",
        "data = {\n",
        "    \"John\": {\"Age\": 45, \"Exp\": 20, \"Sal\": 75000},\n",
        "    \"Alice\": {\"Age\": 35, \"Exp\": 12, \"Sal\": 60000},\n",
        "    \"Mike\": {\"Age\": 50, \"Exp\": 25, \"Sal\": 85000},\n",
        "    \"Sophia\": {\"Age\": 30, \"Exp\": 8, \"Sal\": 55000},\n",
        "    \"David\": {\"Age\": 40, \"Exp\": 18, \"Sal\": 70000}\n",
        "}\n",
        "```\n",
        "\n"
      ],
      "metadata": {
        "id": "qT1xDGO7dsWv"
      }
    },
    {
      "cell_type": "markdown",
      "source": [
        "12.  Describe a scenario where using a tuple would be preferable over a list.\n",
        "\n",
        "- The scenario where using a tuple would be more prefarable over a list is when we dont want the data to be changed , manipulated or modified once its declared .\n",
        "- Tuples are preferred over lists when the data integrety is required.\n",
        "\n"
      ],
      "metadata": {
        "id": "8sCmwgSgdsVF"
      }
    },
    {
      "cell_type": "markdown",
      "source": [
        "13. How do sets handle duplicate values in Python ?\n",
        "\n",
        "- Sets do no allow duplicate values.\n",
        "- sets only allow a singe repetetion of each value.\n",
        "- Even if we try to add duplicate values into the set , it will only let a single entry of a particular element stay in the set .\n",
        "\n",
        "```\n",
        "sett = {1,2,3,4,5,6,6,7,8,1,2,3,2,12,3,45,98}\n",
        "print(sett)\n",
        "# the output will be {1,2,3,4,5,6,7,8,12,45,98} (these elements can be printed in any order)\n",
        "```\n",
        "\n"
      ],
      "metadata": {
        "id": "XjJs4F7UdsTn"
      }
    },
    {
      "cell_type": "markdown",
      "source": [
        "14. How does the “in” keyword work differently for lists and dictionaries?\n",
        "- since list contains values seperated by commas the in keyword goes through all the values and finds if the given value is present in the list or not , if present it will return true else it will return false .\n",
        "\n",
        "\n",
        "```\n",
        "my_list = [1,2,3,4,5,6]\n",
        "\n",
        "print(6 in my_list) #prints True\n",
        "print(8 in my_list) #prints False\n",
        "```\n",
        "\n",
        "\n",
        "- since in dictionary the values are stored as key value pairs if we use the \"in\" keyword it will search through only the keys and not through the values (this means if the required value is present in the values but not in the keys then the in keyword will return false) , so as to search in the values of the dictionary we need to specify dictionaryname.value() so that the in keyword searches in the values .\n",
        "\n",
        "\n",
        "```\n",
        "my_dict = {\"a\" : 1 , \"b\" : 2 , \"c\" :3}\n",
        "\n",
        "print(\"b\" in my_dict) #prints True\n",
        "print(2 in my_dict) #prints False\n",
        "print(2 in my_dict.values()) #prints\n",
        "```\n",
        "\n"
      ],
      "metadata": {
        "id": "llK6YnBodsRz"
      }
    },
    {
      "cell_type": "markdown",
      "source": [
        "15. Can you modify the elements of a tuple? Explain why or why not .\n",
        "\n",
        "- No , we can not modify the elements of a tuple . This is becuase tuple is an immutable data type i.e once declared it can not be modified . It has been designed to be immutable to be used in the cases where the data once declared should not be modified .\n",
        "\n",
        "- The only way we can try to modify a tuple is by converting it into a list , doing the required modifictaions and then converting it back into a tuple ."
      ],
      "metadata": {
        "id": "Okue9DtpdsPT"
      }
    },
    {
      "cell_type": "markdown",
      "source": [
        "16. What is a nested dictionary, and give an example of its use case?\n",
        "- a nested dictonary is where one or more dictoniereis are present as values in the dictionary .\n",
        "- it can be used to store multiple details related to a particular key.\n",
        "- one use case is a dictionary that contains names of the employes as keys and as values as the details of the employee such as experiance salary or age , this way of storing the data will be helpful to obtain the specific data required ..for example if salary of a particular employ is to be accessed it can be easily accessed if the data of the employes is being stored as a nested dictionary.\n",
        "\n",
        "\n",
        "```\n",
        "data = {\n",
        "    \"John\": {\"Age\": 45, \"Exp\": 20, \"Sal\": 75000},\n",
        "    \"Alice\": {\"Age\": 35, \"Exp\": 12, \"Sal\": 60000},\n",
        "    \"Mike\": {\"Age\": 50, \"Exp\": 25, \"Sal\": 85000},\n",
        "    \"Sophia\": {\"Age\": 30, \"Exp\": 8, \"Sal\": 55000},\n",
        "    \"David\": {\"Age\": 40, \"Exp\": 18, \"Sal\": 70000}\n",
        "}\n",
        "\n",
        "#to access david's salary\n",
        "print(data[\"David\"][\"Sal\"])\n",
        "```\n",
        "\n"
      ],
      "metadata": {
        "id": "dLbHo9A6dsJ2"
      }
    },
    {
      "cell_type": "markdown",
      "source": [
        "17. Describe the time complexity of accessing elements in a dictionary ?\n",
        "- The time complexity of accessing elements in a dictionary is O(1)."
      ],
      "metadata": {
        "id": "ukI3jZ7_dr9p"
      }
    },
    {
      "cell_type": "markdown",
      "source": [
        "18.  In what situations are lists preferred over dictionaries?\n",
        "- Lists are preffered over dictionaries when we have to store simple data that need not be stored in the form of key value pairs . (ex : names of employes, list of groceries..etc)"
      ],
      "metadata": {
        "id": "V-VL80k_dr6Y"
      }
    },
    {
      "cell_type": "markdown",
      "source": [
        "19. Why are dictionaries considered unordered, and how does that affect data retrieval ?\n",
        "- dictonaries are considered unordered because they dont have indexes (however from python 3.7 onwards the dictoneries retain the order in which they are inserted).\n",
        "- Since dictonieries dont have any indexes , the data can be retrieved using the keys corresponding to the values . [it is important to note that dictionaries store data as key value pairs)"
      ],
      "metadata": {
        "id": "dWeu2jJZdr3G"
      }
    },
    {
      "cell_type": "markdown",
      "source": [
        "20. Explain the difference between a list and a dictionary in terms of data retrieval ?\n",
        "- The difference between a list and a dictionary in terms of data retrieval is that the data in lists is accessed by using indexes whereas in case of dictonaries the values are accessed using their corresponding key values."
      ],
      "metadata": {
        "id": "qBK5jh19dr0M"
      }
    },
    {
      "cell_type": "markdown",
      "source": [
        "# PRACTICAL QUESTIONS"
      ],
      "metadata": {
        "id": "fEzb5pmmfRwY"
      }
    },
    {
      "cell_type": "code",
      "execution_count": null,
      "metadata": {
        "colab": {
          "base_uri": "https://localhost:8080/"
        },
        "id": "fvuEcsTMdHR0",
        "outputId": "84e95fe0-0cda-403f-eda5-d4c22f7af80e"
      },
      "outputs": [
        {
          "output_type": "stream",
          "name": "stdout",
          "text": [
            "Enter your name : Shiva\n",
            "Hello ! Shiva\n"
          ]
        }
      ],
      "source": [
        "# 1. Write a code to create a string with your name and print it.\n",
        "\n",
        "name = input(\"Enter your name : \")\n",
        "print(\"Hello ! \" + name)"
      ]
    },
    {
      "cell_type": "code",
      "source": [
        "# 2. Write a code to find the length of the string \"Hello World.\n",
        "\n",
        "string = \"Hello World\"\n",
        "print(f\"The length of the given string is {len(string)}\")"
      ],
      "metadata": {
        "colab": {
          "base_uri": "https://localhost:8080/"
        },
        "id": "mXbhHwnnf9jV",
        "outputId": "78d3b4cf-218d-4680-94a4-45fdff6ff6f7"
      },
      "execution_count": null,
      "outputs": [
        {
          "output_type": "stream",
          "name": "stdout",
          "text": [
            "The length of the given string is 11\n"
          ]
        }
      ]
    },
    {
      "cell_type": "code",
      "source": [
        "# 3. Write a code to slice the first 3 characters from the string \"Python Programming\"?\n",
        "\n",
        "string = \"Python Programming\"\n",
        "print(string[0:3])"
      ],
      "metadata": {
        "colab": {
          "base_uri": "https://localhost:8080/"
        },
        "id": "dds93VusgP_C",
        "outputId": "40eae0e4-fb7c-453b-c8fd-1113c4f2ff19"
      },
      "execution_count": null,
      "outputs": [
        {
          "output_type": "stream",
          "name": "stdout",
          "text": [
            "Pyt\n"
          ]
        }
      ]
    },
    {
      "cell_type": "code",
      "source": [
        "# 4. Write a code to convert the string \"hello\" to uppercase\n",
        "\n",
        "string = \"hello\"\n",
        "print(string.upper())"
      ],
      "metadata": {
        "colab": {
          "base_uri": "https://localhost:8080/"
        },
        "id": "TDzzZdnKghUb",
        "outputId": "171fa3b3-5863-4edc-ad16-0881c5605d6a"
      },
      "execution_count": null,
      "outputs": [
        {
          "output_type": "stream",
          "name": "stdout",
          "text": [
            "HELLO\n"
          ]
        }
      ]
    },
    {
      "cell_type": "code",
      "source": [
        "# 5. Write a code to replace the word \"apple\" with \"orange\" in the string \"I like apple\".\n",
        "\n",
        "string =  \"I like apple\"\n",
        "a = string.split(\" \")\n",
        "a[2] = \"orange\"\n",
        "new_string = a[0] + \" \" + a[1] + \" \" + a[2]\n",
        "print(new_string)\n"
      ],
      "metadata": {
        "colab": {
          "base_uri": "https://localhost:8080/"
        },
        "id": "464qlaRcg3_0",
        "outputId": "4283b52f-b711-431b-bc6a-4a2b2476b44b"
      },
      "execution_count": null,
      "outputs": [
        {
          "output_type": "stream",
          "name": "stdout",
          "text": [
            "I like orange\n"
          ]
        }
      ]
    },
    {
      "cell_type": "code",
      "source": [
        "# 6. Write a code to create a list with numbers 1 to 5 and print it\n",
        "\n",
        "[i for i in range(1,6)]"
      ],
      "metadata": {
        "colab": {
          "base_uri": "https://localhost:8080/"
        },
        "id": "ft8xeLQAhuvc",
        "outputId": "8fdda177-c4f1-439f-87bb-d8ab780ef981"
      },
      "execution_count": null,
      "outputs": [
        {
          "output_type": "execute_result",
          "data": {
            "text/plain": [
              "[1, 2, 3, 4, 5]"
            ]
          },
          "metadata": {},
          "execution_count": 10
        }
      ]
    },
    {
      "cell_type": "code",
      "source": [
        "# 7. Write a code to append the number 10 to the list [1, 2, 3, 4].\n",
        "\n",
        "listt = [1,2,3,4]\n",
        "listt.append(10)\n",
        "print(listt)"
      ],
      "metadata": {
        "colab": {
          "base_uri": "https://localhost:8080/"
        },
        "id": "NDK5TwLUiCcc",
        "outputId": "26d60be3-e125-4174-be75-394be2ae981c"
      },
      "execution_count": null,
      "outputs": [
        {
          "output_type": "stream",
          "name": "stdout",
          "text": [
            "[1, 2, 3, 4, 10]\n"
          ]
        }
      ]
    },
    {
      "cell_type": "code",
      "source": [
        "# 8. Write a code to remove the number 3 from the list [1, 2, 3, 4, 5].\n",
        "\n",
        "listt = [1,2,3,4,5]\n",
        "listt.remove(3)\n",
        "print(listt)"
      ],
      "metadata": {
        "colab": {
          "base_uri": "https://localhost:8080/"
        },
        "id": "Kn1cTBWLiS7C",
        "outputId": "52d67bca-2d72-4bb1-b66c-d11a29c418b5"
      },
      "execution_count": null,
      "outputs": [
        {
          "output_type": "stream",
          "name": "stdout",
          "text": [
            "[1, 2, 4, 5]\n"
          ]
        }
      ]
    },
    {
      "cell_type": "code",
      "source": [
        "# 9. Write a code to access the second element in the list ['a', 'b', 'c', 'd']\n",
        "\n",
        "listt = [\"a\" , \"b\" , \"c\" , \"d\"]\n",
        "#lets access and also print for seeing it in output\n",
        "print(listt[1])"
      ],
      "metadata": {
        "colab": {
          "base_uri": "https://localhost:8080/"
        },
        "id": "mUbQbpeRicRE",
        "outputId": "1495ef87-70b9-4d23-cdb4-0a6835722ea5"
      },
      "execution_count": null,
      "outputs": [
        {
          "output_type": "stream",
          "name": "stdout",
          "text": [
            "b\n"
          ]
        }
      ]
    },
    {
      "cell_type": "code",
      "source": [
        "# 10. Write a code to reverse the list [10, 20, 30, 40, 50]\n",
        "\n",
        "listt = [10,20,30,40,50]\n",
        "revlist = []\n",
        "\n",
        "for i in range(len(listt)):\n",
        "  revlist.append(listt[len(listt)-i-1])\n",
        "\n",
        "print(revlist)"
      ],
      "metadata": {
        "colab": {
          "base_uri": "https://localhost:8080/"
        },
        "id": "x2JVcOR7itti",
        "outputId": "7ae539db-08da-4543-d387-fd6cb39f4716"
      },
      "execution_count": null,
      "outputs": [
        {
          "output_type": "stream",
          "name": "stdout",
          "text": [
            "[50, 40, 30, 20, 10]\n"
          ]
        }
      ]
    },
    {
      "cell_type": "code",
      "source": [
        "# 11. Write a code to create a tuple with the elements 10, 20, 30 and print it.\n",
        "\n",
        "tuplee = (10,20,30)\n",
        "print(tuplee)\n",
        "print(type(tuplee))"
      ],
      "metadata": {
        "colab": {
          "base_uri": "https://localhost:8080/"
        },
        "id": "fuZzn94ojjof",
        "outputId": "132c0f85-c0bf-4607-8264-398b6e31c64e"
      },
      "execution_count": null,
      "outputs": [
        {
          "output_type": "stream",
          "name": "stdout",
          "text": [
            "(10, 20, 30)\n",
            "<class 'tuple'>\n"
          ]
        }
      ]
    },
    {
      "cell_type": "code",
      "source": [
        "# 12. Write a code to access the first element of the tuple ('apple', 'banana', 'cherry')\n",
        "\n",
        "tuplee = ('apple', 'banana', 'cherry')\n",
        "print(tuplee[0])"
      ],
      "metadata": {
        "colab": {
          "base_uri": "https://localhost:8080/"
        },
        "id": "WV0d7yd4j2Fn",
        "outputId": "cc4dad47-8ac2-4629-d2c6-ff454c8f8950"
      },
      "execution_count": null,
      "outputs": [
        {
          "output_type": "stream",
          "name": "stdout",
          "text": [
            "apple\n"
          ]
        }
      ]
    },
    {
      "cell_type": "code",
      "source": [
        "# 13. Write a code to count how many times the number 2 appears in the tuple (1, 2, 3, 2, 4, 2).\n",
        "\n",
        "tuplee = (1, 2, 3, 2, 4, 2)\n",
        "print(tuplee.count(2))"
      ],
      "metadata": {
        "colab": {
          "base_uri": "https://localhost:8080/"
        },
        "id": "XQadFocukGhD",
        "outputId": "6031d827-56e9-41b6-d2dd-1602a97c619c"
      },
      "execution_count": null,
      "outputs": [
        {
          "output_type": "stream",
          "name": "stdout",
          "text": [
            "3\n"
          ]
        }
      ]
    },
    {
      "cell_type": "code",
      "source": [
        "# 14. Write a code to find the index of the element \"cat\" in the tuple ('dog', 'cat', 'rabbit')\n",
        "\n",
        "tuplee = ('dog', 'cat', 'rabbit')\n",
        "print(tuplee.index(\"cat\"))"
      ],
      "metadata": {
        "colab": {
          "base_uri": "https://localhost:8080/"
        },
        "id": "b3EYWvkUkSB0",
        "outputId": "341276d8-5558-472a-c0d4-5904c97d203f"
      },
      "execution_count": null,
      "outputs": [
        {
          "output_type": "stream",
          "name": "stdout",
          "text": [
            "1\n"
          ]
        }
      ]
    },
    {
      "cell_type": "code",
      "source": [
        "# 15. Write a code to check if the element \"banana\" is in the tuple ('apple', 'orange', 'banana').\n",
        "\n",
        "tuplee = ('apple', 'orange', 'banana')\n",
        "\n",
        "if \"banana\" in tuplee:\n",
        "  print(\"Yes 'banana' is in the given tuple\")\n",
        "else:\n",
        "  print(\"'banana' is not in given tuple\")\n",
        "\n"
      ],
      "metadata": {
        "colab": {
          "base_uri": "https://localhost:8080/"
        },
        "id": "X4f0T_v1lLDU",
        "outputId": "a79b071f-c214-4d99-9ecf-533a50755db0"
      },
      "execution_count": null,
      "outputs": [
        {
          "output_type": "stream",
          "name": "stdout",
          "text": [
            "Yes 'banana' is in the given tuple\n"
          ]
        }
      ]
    },
    {
      "cell_type": "code",
      "source": [
        "# 16. Write a code to create a set with the elements 1, 2, 3, 4, 5 and print it.\n",
        "\n",
        "sett = {1,2,3,4,5}\n",
        "print(sett)\n",
        "print(type(set))"
      ],
      "metadata": {
        "colab": {
          "base_uri": "https://localhost:8080/"
        },
        "id": "wng8TnaWljBI",
        "outputId": "8fcb798f-1d42-45b1-d893-f6514c666d99"
      },
      "execution_count": null,
      "outputs": [
        {
          "output_type": "stream",
          "name": "stdout",
          "text": [
            "{1, 2, 3, 4, 5}\n",
            "<class 'type'>\n"
          ]
        }
      ]
    },
    {
      "cell_type": "code",
      "source": [
        "# 17. Write a code to add the element 6 to the set {1, 2, 3, 4}.\n",
        "\n",
        "sett = {1, 2, 3, 4}\n",
        "sett.add(6)\n",
        "print(sett)"
      ],
      "metadata": {
        "colab": {
          "base_uri": "https://localhost:8080/"
        },
        "id": "a8YYlVlKluPj",
        "outputId": "8e1545ec-5479-4242-abcc-ff0bf960b098"
      },
      "execution_count": null,
      "outputs": [
        {
          "output_type": "stream",
          "name": "stdout",
          "text": [
            "{1, 2, 3, 4, 6}\n"
          ]
        }
      ]
    },
    {
      "cell_type": "code",
      "source": [
        "#all questions from 18 to 24 are the exact repetition of the questions from 11 to 17\n",
        "# 18 question 11 question same\n",
        "# 19 question 12 question same\n",
        "# 20 question 13 question same\n",
        "# 21 question 14 question same\n",
        "# 22 question 15 question same\n",
        "# 23 question 16 question same\n",
        "# 24 question 17 question same"
      ],
      "metadata": {
        "id": "GRgob1FXl71A"
      },
      "execution_count": null,
      "outputs": []
    }
  ]
}